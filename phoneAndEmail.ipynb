{
 "metadata": {
  "language_info": {
   "codemirror_mode": {
    "name": "ipython",
    "version": 3
   },
   "file_extension": ".py",
   "mimetype": "text/x-python",
   "name": "python",
   "nbconvert_exporter": "python",
   "pygments_lexer": "ipython3",
   "version": "3.8.3-final"
  },
  "orig_nbformat": 2,
  "kernelspec": {
   "name": "python_defaultSpec_1600944366707",
   "display_name": "Python 3.8.3 64-bit (conda)"
  }
 },
 "nbformat": 4,
 "nbformat_minor": 2,
 "cells": [
  {
   "cell_type": "code",
   "execution_count": null,
   "metadata": {},
   "outputs": [],
   "source": [
    "# phoneAndEmail.ipynb - Finds phones numbers and email addresses on the clipboard"
   ]
  },
  {
   "cell_type": "code",
   "execution_count": 3,
   "metadata": {
    "tags": []
   },
   "outputs": [
    {
     "output_type": "stream",
     "name": "stdout",
     "text": "Collecting pyperclip\n  Downloading pyperclip-1.8.0.tar.gz (16 kB)\nBuilding wheels for collected packages: pyperclip\n  Building wheel for pyperclip (setup.py): started\n  Building wheel for pyperclip (setup.py): finished with status 'done'\n  Created wheel for pyperclip: filename=pyperclip-1.8.0-py3-none-any.whl size=8696 sha256=c63a3bf16341e89f1045fd80f7c5eb7944ea5d7da3968404b98ea7ca3b8bcbe0\n  Stored in directory: c:\\users\\nleop\\appdata\\local\\pip\\cache\\wheels\\03\\79\\58\\ab51f0f590281b0f4f6046d9271eb98cc50565afb9200f155a\nSuccessfully built pyperclip\nInstalling collected packages: pyperclip\nSuccessfully installed pyperclip-1.8.0\nNote: you may need to restart the kernel to use updated packages.\n"
    }
   ],
   "source": [
    "pip install pyperclip"
   ]
  },
  {
   "cell_type": "code",
   "execution_count": 30,
   "metadata": {},
   "outputs": [],
   "source": [
    "import pyperclip, re"
   ]
  },
  {
   "cell_type": "code",
   "execution_count": 39,
   "metadata": {},
   "outputs": [],
   "source": [
    "phoneRegex = re.compile(r'''(\n",
    "    (\\d{3}|\\(\\d{3}\\))?                # area code\n",
    "    (\\s|-|\\.)?                        # separator\n",
    "    (\\d{3})                           # first 3 digits\n",
    "    (\\s|-|\\.)                         # separator\n",
    "    (\\d{4})                           # last 4 digits\n",
    "    (\\s*(ext|x|ext.)\\s*(\\d{2,5}))?    # extension\n",
    "    )''', re.VERBOSE)"
   ]
  },
  {
   "cell_type": "code",
   "execution_count": 40,
   "metadata": {},
   "outputs": [],
   "source": [
    "# create email regex\n",
    "emailRegex = re.compile(r'''(\n",
    "[a-zA-Z0-9._%+-]+ #username\n",
    "@ #@ symbol\n",
    "[a-zA-Z0-9.-]+ #domain name\n",
    "(\\.[a-zA-Z]{2,4}) #dot-something (top-level domain)\n",
    ")''', re.VERBOSE) "
   ]
  },
  {
   "cell_type": "code",
   "execution_count": 46,
   "metadata": {},
   "outputs": [],
   "source": [
    "#Find matches in clipboard text\n",
    "text = str(pyperclip.paste())\n",
    "matches = []"
   ]
  },
  {
   "cell_type": "code",
   "execution_count": 47,
   "metadata": {},
   "outputs": [],
   "source": [
    "for groups in phoneRegex.findall(text):\n",
    "       phoneNum = '-'.join([groups[1], groups[3], groups[5]])\n",
    "       if groups[8] != '':\n",
    "           phoneNum += ' x' + groups[8]\n",
    "       matches.append(phoneNum)\n",
    "for groups in emailRegex.findall(text):\n",
    "       matches.append(groups[0])\n"
   ]
  },
  {
   "cell_type": "code",
   "execution_count": 48,
   "metadata": {},
   "outputs": [],
   "source": [
    "for groups in emailRegex.findall(text):\n",
    "    matches.append(groups[0])"
   ]
  },
  {
   "cell_type": "code",
   "execution_count": 49,
   "metadata": {
    "tags": []
   },
   "outputs": [
    {
     "output_type": "stream",
     "name": "stdout",
     "text": "Copied to clipboard:\n800-420-7240\n415-863-9900\n415-863-9950\ninfo@nostarch.com\nmedia@nostarch.com\nacademic@nostarch.com\ninfo@nostarch.com\ninfo@nostarch.com\nmedia@nostarch.com\nacademic@nostarch.com\ninfo@nostarch.com\n"
    }
   ],
   "source": [
    "#copy results to the clipboard\n",
    "if len(matches) > 0:\n",
    "    pyperclip.copy('\\n'.join(matches))\n",
    "    print('Copied to clipboard:')\n",
    "    print('\\n'.join(matches))\n",
    "else:\n",
    "    print('No phone numbers or email addresses found.')"
   ]
  },
  {
   "cell_type": "code",
   "execution_count": null,
   "metadata": {},
   "outputs": [],
   "source": []
  }
 ]
}