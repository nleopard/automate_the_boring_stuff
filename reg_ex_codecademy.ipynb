{
 "metadata": {
  "language_info": {
   "codemirror_mode": {
    "name": "ipython",
    "version": 3
   },
   "file_extension": ".py",
   "mimetype": "text/x-python",
   "name": "python",
   "nbconvert_exporter": "python",
   "pygments_lexer": "ipython3",
   "version": "3.8.3-final"
  },
  "orig_nbformat": 2,
  "kernelspec": {
   "name": "python38332bit4fb426363cd648ab9e13c4f7d3f904ec",
   "display_name": "Python 3.8.3 32-bit"
  }
 },
 "nbformat": 4,
 "nbformat_minor": 2,
 "cells": [
  {
   "cell_type": "code",
   "execution_count": 4,
   "metadata": {},
   "outputs": [],
   "source": [
    "### These were taken from a course on Codecademy. I thought they would\n",
    "### be helpful to keep in a particular location. I have not attached the \n",
    "### files that are being run because they are necessary. The value is in the \n",
    "### code being run. It can be adapted to any file. \n",
    "\n",
    "\n"
   ]
  },
  {
   "cell_type": "code",
   "execution_count": 7,
   "metadata": {},
   "outputs": [],
   "source": [
    "#import necessary libraries\n",
    "\n",
    "import pandas as pd\n",
    "import numpy as np\n",
    "import matplotlib.pyplot as pyplot\n",
    "import glob\n",
    "import re"
   ]
  },
  {
   "cell_type": "code",
   "execution_count": 8,
   "metadata": {},
   "outputs": [],
   "source": [
    "#search for your file with a particular name using glob\n",
    "#files can be cycles through, the example is state so it\n",
    "#will find state0, state1, etc \n",
    "\n",
    "files = glob.glob(\"states*.csv\")"
   ]
  },
  {
   "cell_type": "code",
   "execution_count": null,
   "metadata": {},
   "outputs": [],
   "source": [
    "#create an empty list for the data frame\n",
    "df_list = []"
   ]
  },
  {
   "cell_type": "code",
   "execution_count": null,
   "metadata": {},
   "outputs": [],
   "source": [
    "#loop through the various csv files then append them\n",
    "#to the df_list combining our various csv files into\n",
    "#a single large list, this will be combined below\n",
    "\n",
    "for filename in files:\n",
    "  data = pd.read_csv(filename)\n",
    "  df_list.append(data)"
   ]
  },
  {
   "cell_type": "code",
   "execution_count": null,
   "metadata": {},
   "outputs": [],
   "source": [
    "#concatenate the csv files into a single data frame\n",
    "\n",
    "us_census = pd.concat(df_list)"
   ]
  },
  {
   "cell_type": "code",
   "execution_count": null,
   "metadata": {},
   "outputs": [],
   "source": [
    "#take out $ in Income column, change to numeric value\n",
    "\n",
    "us_census['Income'] = us_census['Income'].replace('\\$', '', regex=True)\n",
    "us_census['Income'] = pd.to_numeric(us_census['Income'])"
   ]
  },
  {
   "cell_type": "code",
   "execution_count": null,
   "metadata": {},
   "outputs": [],
   "source": [
    "#separate the gender column into two columns - male and female\n",
    "\n",
    "split_gender = us_census['GenderPop'].str.split('_', expand=True)\n",
    "us_census['Female'] = split_gender[1].str.split('(\\d+)', expand=True)[1]\n",
    "us_census['Male'] = split_gender[0].str.split('(\\d+)', expand=True)[1]"
   ]
  },
  {
   "cell_type": "code",
   "execution_count": null,
   "metadata": {},
   "outputs": [],
   "source": []
  }
 ]
}