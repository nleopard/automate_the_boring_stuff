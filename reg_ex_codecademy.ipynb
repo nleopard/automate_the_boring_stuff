{
 "metadata": {
  "language_info": {
   "codemirror_mode": {
    "name": "ipython",
    "version": 3
   },
   "file_extension": ".py",
   "mimetype": "text/x-python",
   "name": "python",
   "nbconvert_exporter": "python",
   "pygments_lexer": "ipython3",
   "version": "3.8.3-final"
  },
  "orig_nbformat": 2,
  "kernelspec": {
   "name": "python38332bit4fb426363cd648ab9e13c4f7d3f904ec",
   "display_name": "Python 3.8.3 32-bit"
  }
 },
 "nbformat": 4,
 "nbformat_minor": 2,
 "cells": [
  {
   "cell_type": "code",
   "execution_count": 4,
   "metadata": {},
   "outputs": [],
   "source": [
    "### These were taken from a course on Codecademy. I thought they would\n",
    "### be helpful to keep in a particular location. I have not attached the \n",
    "### files that are being run because they are necessary. The value is in the \n",
    "### code being run. It can be adapted to any file. \n",
    "\n",
    "\n"
   ]
  },
  {
   "cell_type": "code",
   "execution_count": 7,
   "metadata": {},
   "outputs": [],
   "source": [
    "#import necessary libraries\n",
    "\n",
    "import pandas as pd\n",
    "import numpy as np\n",
    "import matplotlib.pyplot as pyplot\n",
    "import glob\n",
    "import re"
   ]
  },
  {
   "cell_type": "code",
   "execution_count": 8,
   "metadata": {},
   "outputs": [],
   "source": [
    "#search for your file with a particular name using glob\n",
    "#files can be cycles through, the example is state so it\n",
    "#will find state0, state1, etc \n",
    "\n",
    "files = glob.glob(\"states*.csv\")"
   ]
  },
  {
   "cell_type": "code",
   "execution_count": null,
   "metadata": {},
   "outputs": [],
   "source": [
    "#create an empty list for the data frame\n",
    "df_list = []"
   ]
  },
  {
   "cell_type": "code",
   "execution_count": null,
   "metadata": {},
   "outputs": [],
   "source": [
    "#loop through the various csv files then append them\n",
    "#to the df_list combining our various csv files into\n",
    "#a single large list, this will be combined below\n",
    "\n",
    "for filename in files:\n",
    "  data = pd.read_csv(filename)\n",
    "  df_list.append(data)"
   ]
  },
  {
   "cell_type": "code",
   "execution_count": null,
   "metadata": {},
   "outputs": [],
   "source": [
    "#concatenate the csv files into a single data frame\n",
    "\n",
    "us_census = pd.concat(df_list)"
   ]
  },
  {
   "cell_type": "code",
   "execution_count": null,
   "metadata": {},
   "outputs": [],
   "source": [
    "#take out $ in Income column, change to numeric value\n",
    "\n",
    "us_census['Income'] = us_census['Income'].replace('\\$', '', regex=True)\n",
    "us_census['Income'] = pd.to_numeric(us_census['Income'])"
   ]
  },
  {
   "cell_type": "code",
   "execution_count": null,
   "metadata": {},
   "outputs": [],
   "source": [
    "#separate the gender column into two columns - male and female\n",
    "\n",
    "split_gender = us_census['GenderPop'].str.split('_', expand=True)\n",
    "us_census['Female'] = split_gender[1].str.split('(\\d+)', expand=True)[1]\n",
    "us_census['Male'] = split_gender[0].str.split('(\\d+)', expand=True)[1]"
   ]
  },
  {
   "cell_type": "code",
   "execution_count": null,
   "metadata": {},
   "outputs": [],
   "source": [
    "#check the of woman per state\n",
    "#print(us_census['Female']\n",
    "\n",
    "# print(us_census.dtypes)"
   ]
  },
  {
   "cell_type": "code",
   "execution_count": null,
   "metadata": {},
   "outputs": [],
   "source": [
    "#change Male and Female to numeric\n",
    "us_census['Female'] = pd.to_numeric(us_census['Female'])\n",
    "us_census['Male'] = pd.to_numeric(us_census['Male'])"
   ]
  },
  {
   "cell_type": "code",
   "execution_count": null,
   "metadata": {},
   "outputs": [],
   "source": [
    "#minus TotalPop and Male to get the population of Females\n",
    "values = us_census['TotalPop'] - us_census['Male']"
   ]
  },
  {
   "cell_type": "code",
   "execution_count": null,
   "metadata": {},
   "outputs": [],
   "source": [
    "#Fill in the NaN spots in the Female columns\n",
    "us_census['Female'] = us_census['Female'].fillna(value=values)"
   ]
  },
  {
   "cell_type": "code",
   "execution_count": null,
   "metadata": {},
   "outputs": [],
   "source": [
    "#drop duplicates\n",
    "us_census = us_census.drop_duplicates()"
   ]
  },
  {
   "cell_type": "code",
   "execution_count": null,
   "metadata": {},
   "outputs": [],
   "source": [
    "# create a scatter chart\n",
    "plt.scatter(us_census.Female, us_census.Income)\n",
    "plt.show()"
   ]
  },
  {
   "cell_type": "code",
   "execution_count": null,
   "metadata": {},
   "outputs": [],
   "source": [
    "#check on the types of the Race columns\n",
    "print(us_census.dtypes)\n",
    "print(us_census.head())"
   ]
  },
  {
   "cell_type": "code",
   "execution_count": null,
   "metadata": {},
   "outputs": [],
   "source": [
    "#change all the race columns to_numeric and take out the % sign\n",
    "us_census['Hispanic'] = us_census.Hispanic.str[:-1]\n",
    "us_census['Hispanic'] = pd.to_numeric(us_census['Hispanic'])\n",
    "\n",
    "us_census['White'] = us_census.White.str[:-1]\n",
    "us_census['White'] = pd.to_numeric(us_census['White'])\n",
    "\n",
    "us_census['Black'] = us_census.Black.str[:-1]\n",
    "us_census['Black'] = pd.to_numeric(us_census['Black'])\n",
    "\n",
    "us_census['Native'] = us_census.Native.str[:-1]\n",
    "us_census['Native'] = pd.to_numeric(us_census['Native'])\n",
    "\n",
    "us_census['Asian'] = us_census.Asian.str[:-1]\n",
    "us_census['Asian'] = pd.to_numeric(us_census['Asian'])\n",
    "\n",
    "us_census['Pacific'] = us_census.Pacific.str[:-1]\n",
    "us_census['Pacific'] = pd.to_numeric(us_census['Pacific'])"
   ]
  },
  {
   "cell_type": "code",
   "execution_count": null,
   "metadata": {},
   "outputs": [],
   "source": [
    "#check on the types of the Race columns\n",
    "# print(us_census.dtypes)\n",
    "# print(us_census.head())"
   ]
  },
  {
   "cell_type": "code",
   "execution_count": null,
   "metadata": {},
   "outputs": [],
   "source": [
    "#clear all the NaN from each race column\n",
    "us_census = us_census.fillna(value={\n",
    "'Hispanic': us_census.Hispanic.mean(),\n",
    "'White': us_census.White.mean(),\n",
    "'Black': us_census.Black.mean(),\n",
    "'Native': us_census.Native.mean(),\n",
    "'Asian': us_census.Asian.mean(),\n",
    "'Pacific': us_census.Pacific.mean(),\n",
    "})"
   ]
  },
  {
   "cell_type": "code",
   "execution_count": null,
   "metadata": {},
   "outputs": [],
   "source": [
    "#display a historgram of each race column\n",
    "\n",
    "plt.hist(us_census['Hispanic'])\n",
    "plt.title('Hispanic')\n",
    "plt.show()\n",
    "plt.cla()\n",
    "\n",
    "plt.hist(us_census['White'])\n",
    "plt.title('White')\n",
    "plt.show()\n",
    "plt.cla()\n",
    "\n",
    "plt.hist(us_census['Black'])\n",
    "plt.title('Black')\n",
    "plt.show()\n",
    "plt.cla()\n",
    "\n",
    "plt.hist(us_census['Native'])\n",
    "plt.title('Native')\n",
    "plt.show()\n",
    "plt.cla()\n",
    "\n",
    "plt.hist(us_census['Asian'])\n",
    "plt.title('Asian')\n",
    "plt.show()\n",
    "plt.cla()\n",
    "\n",
    "plt.hist(us_census['Pacific'])\n",
    "plt.title('Pacific')\n",
    "plt.show()\n",
    "plt.cla()\n",
    "\n"
   ]
  }
 ]
}